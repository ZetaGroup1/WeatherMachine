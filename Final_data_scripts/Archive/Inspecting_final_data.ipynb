{
 "cells": [
  {
   "cell_type": "code",
   "execution_count": 4,
   "metadata": {},
   "outputs": [],
   "source": [
    "import pandas as pd\n",
    "import glob\n"
   ]
  },
  {
   "cell_type": "code",
   "execution_count": 10,
   "metadata": {},
   "outputs": [],
   "source": [
    "# Load all weather files\n",
    "file_paths = glob.glob(\"C:\\\\Repos\\\\Project2\\\\WeatherMachine\\\\Data cleaning\\\\Final_merge\\\\Final.csv\")  # Adjust path\n",
    "dfs = {file.split(\"/\")[-1]: pd.read_csv(file) for file in file_paths}\n",
    "\n",
    "# Quick inspection\n",
    "for name, df in dfs.items():\n",
    "    print(f\"{name}: {df.shape}, Missing: {df.isnull().sum().sum()}\")\n",
    "\n"
   ]
  },
  {
   "cell_type": "code",
   "execution_count": 11,
   "metadata": {},
   "outputs": [],
   "source": [
    "import pandas as pd\n",
    "import glob\n",
    "\n",
    "# Load all CSV files from the folder into a list\n",
    "file_paths = glob.glob(\"path_to_data/*.csv\")  # Adjust path\n",
    "dfs = [pd.read_csv(file) for file in file_paths]\n",
    "\n",
    "# Check the first few rows of each dataset\n",
    "for i, df in enumerate(dfs):\n",
    "    print(f\"Dataset {i+1}: {file_paths[i].split('/')[-1]}\")\n",
    "    print(df.head(), \"\\n\")"
   ]
  },
  {
   "cell_type": "code",
   "execution_count": null,
   "metadata": {},
   "outputs": [],
   "source": [
    "import pandas as pd\n",
    "import glob\n",
    " \n",
    "# Load all files\n",
    "file_paths = glob.glob(\"path_to_data/*.csv\")\n",
    " \n",
    "# Select 4 venues for training\n",
    "train_venues = [\"Ylläs_final.csv\", \".csv\", \"venue3.csv\", \"venue4.csv\"]\n",
    "train_dfs = [pd.read_csv(f) for f in train_venues]\n",
    " \n",
    "# Combine into one training dataset\n",
    "df_train = pd.concat(train_dfs, ignore_index=True)\n",
    " \n",
    "# Select 1 venue for testing\n",
    "test_venue = \"venue5.csv\"\n",
    "df_test = pd.read_csv(test_venue)\n",
    " \n",
    "print(df_train.shape, df_test.shape)  # Check sizes"
   ]
  }
 ],
 "metadata": {
  "kernelspec": {
   "display_name": "Python 3",
   "language": "python",
   "name": "python3"
  },
  "language_info": {
   "codemirror_mode": {
    "name": "ipython",
    "version": 3
   },
   "file_extension": ".py",
   "mimetype": "text/x-python",
   "name": "python",
   "nbconvert_exporter": "python",
   "pygments_lexer": "ipython3",
   "version": "3.13.1"
  }
 },
 "nbformat": 4,
 "nbformat_minor": 2
}
