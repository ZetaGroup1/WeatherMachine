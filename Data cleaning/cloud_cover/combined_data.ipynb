{
 "cells": [
  {
   "cell_type": "code",
   "execution_count": 1,
   "metadata": {},
   "outputs": [],
   "source": [
    "import pandas as pd\n",
    "import os"
   ]
  },
  {
   "cell_type": "code",
   "execution_count": null,
   "metadata": {},
   "outputs": [
    {
     "data": {
      "text/html": [
       "<div>\n",
       "<style scoped>\n",
       "    .dataframe tbody tr th:only-of-type {\n",
       "        vertical-align: middle;\n",
       "    }\n",
       "\n",
       "    .dataframe tbody tr th {\n",
       "        vertical-align: top;\n",
       "    }\n",
       "\n",
       "    .dataframe thead th {\n",
       "        text-align: right;\n",
       "    }\n",
       "</style>\n",
       "<table border=\"1\" class=\"dataframe\">\n",
       "  <thead>\n",
       "    <tr style=\"text-align: right;\">\n",
       "      <th></th>\n",
       "      <th>Observation station</th>\n",
       "      <th>Cloud cover [1/8]</th>\n",
       "      <th>Date</th>\n",
       "      <th>cloud_cover_code</th>\n",
       "    </tr>\n",
       "  </thead>\n",
       "  <tbody>\n",
       "    <tr>\n",
       "      <th>0</th>\n",
       "      <td>Rautavaara Ylä-Luosta</td>\n",
       "      <td>Clear (0/8)</td>\n",
       "      <td>2005-01-01</td>\n",
       "      <td>0</td>\n",
       "    </tr>\n",
       "    <tr>\n",
       "      <th>1</th>\n",
       "      <td>Rautavaara Ylä-Luosta</td>\n",
       "      <td>Cloudy (8/8)</td>\n",
       "      <td>2005-01-02</td>\n",
       "      <td>8</td>\n",
       "    </tr>\n",
       "    <tr>\n",
       "      <th>2</th>\n",
       "      <td>Rautavaara Ylä-Luosta</td>\n",
       "      <td>Mostly cloudy (7/8)</td>\n",
       "      <td>2005-01-03</td>\n",
       "      <td>7</td>\n",
       "    </tr>\n",
       "    <tr>\n",
       "      <th>3</th>\n",
       "      <td>Rautavaara Ylä-Luosta</td>\n",
       "      <td>Mostly cloudy (7/8)</td>\n",
       "      <td>2005-01-04</td>\n",
       "      <td>7</td>\n",
       "    </tr>\n",
       "    <tr>\n",
       "      <th>4</th>\n",
       "      <td>Rautavaara Ylä-Luosta</td>\n",
       "      <td>Mostly cloudy (7/8)</td>\n",
       "      <td>2005-01-05</td>\n",
       "      <td>7</td>\n",
       "    </tr>\n",
       "    <tr>\n",
       "      <th>...</th>\n",
       "      <td>...</td>\n",
       "      <td>...</td>\n",
       "      <td>...</td>\n",
       "      <td>...</td>\n",
       "    </tr>\n",
       "    <tr>\n",
       "      <th>43306</th>\n",
       "      <td>Sotkamo Kuolaniemi</td>\n",
       "      <td>Cloudy (8/8)</td>\n",
       "      <td>NaN</td>\n",
       "      <td>8</td>\n",
       "    </tr>\n",
       "    <tr>\n",
       "      <th>43307</th>\n",
       "      <td>Sotkamo Kuolaniemi</td>\n",
       "      <td>Clear (1/8)</td>\n",
       "      <td>NaN</td>\n",
       "      <td>1</td>\n",
       "    </tr>\n",
       "    <tr>\n",
       "      <th>43308</th>\n",
       "      <td>Lahti Sopenkorpi</td>\n",
       "      <td>Cloudy (8/8)</td>\n",
       "      <td>NaN</td>\n",
       "      <td>8</td>\n",
       "    </tr>\n",
       "    <tr>\n",
       "      <th>43309</th>\n",
       "      <td>Lahti Sopenkorpi</td>\n",
       "      <td>Clear (0/8)</td>\n",
       "      <td>NaN</td>\n",
       "      <td>0</td>\n",
       "    </tr>\n",
       "    <tr>\n",
       "      <th>43310</th>\n",
       "      <td>Sotkamo Kuolaniemi</td>\n",
       "      <td>Partly cloudy (5/8)</td>\n",
       "      <td>NaN</td>\n",
       "      <td>5</td>\n",
       "    </tr>\n",
       "  </tbody>\n",
       "</table>\n",
       "<p>43311 rows × 4 columns</p>\n",
       "</div>"
      ],
      "text/plain": [
       "         Observation station    Cloud cover [1/8]        Date  \\\n",
       "0      Rautavaara Ylä-Luosta          Clear (0/8)  2005-01-01   \n",
       "1      Rautavaara Ylä-Luosta         Cloudy (8/8)  2005-01-02   \n",
       "2      Rautavaara Ylä-Luosta  Mostly cloudy (7/8)  2005-01-03   \n",
       "3      Rautavaara Ylä-Luosta  Mostly cloudy (7/8)  2005-01-04   \n",
       "4      Rautavaara Ylä-Luosta  Mostly cloudy (7/8)  2005-01-05   \n",
       "...                      ...                  ...         ...   \n",
       "43306     Sotkamo Kuolaniemi         Cloudy (8/8)         NaN   \n",
       "43307     Sotkamo Kuolaniemi          Clear (1/8)         NaN   \n",
       "43308       Lahti Sopenkorpi         Cloudy (8/8)         NaN   \n",
       "43309       Lahti Sopenkorpi          Clear (0/8)         NaN   \n",
       "43310     Sotkamo Kuolaniemi  Partly cloudy (5/8)         NaN   \n",
       "\n",
       "       cloud_cover_code  \n",
       "0                     0  \n",
       "1                     8  \n",
       "2                     7  \n",
       "3                     7  \n",
       "4                     7  \n",
       "...                 ...  \n",
       "43306                 8  \n",
       "43307                 1  \n",
       "43308                 8  \n",
       "43309                 0  \n",
       "43310                 5  \n",
       "\n",
       "[43311 rows x 4 columns]"
      ]
     },
     "execution_count": 5,
     "metadata": {},
     "output_type": "execute_result"
    }
   ],
   "source": [
    "df = pd.read_csv('C:\\\\Repos\\\\Project2\\\\WeatherMachine\\\\Data cleaning\\\\cloud_cover\\\\combined_cloud_data.csv')\n",
    "\n",
    "dfgitg"
   ]
  },
  {
   "cell_type": "code",
   "execution_count": 4,
   "metadata": {},
   "outputs": [
    {
     "data": {
      "text/plain": [
       "array(['Clear (0/8)', 'Cloudy (8/8)', 'Mostly cloudy (7/8)',\n",
       "       'Mostly clear (3/8)', 'Cloudiness cannot be determined (9/8)',\n",
       "       'Partly cloudy (5/8)', 'Clear (1/8)', '-', 'Mostly cloudy (6/8)',\n",
       "       'Partly cloudy (4/8)', 'Mostly clear (2/8)'], dtype=object)"
      ]
     },
     "execution_count": 4,
     "metadata": {},
     "output_type": "execute_result"
    }
   ],
   "source": [
    "unique_values = df['Cloud cover [1/8]'].unique()\n",
    "unique_values"
   ]
  }
 ],
 "metadata": {
  "kernelspec": {
   "display_name": "Python 3",
   "language": "python",
   "name": "python3"
  },
  "language_info": {
   "codemirror_mode": {
    "name": "ipython",
    "version": 3
   },
   "file_extension": ".py",
   "mimetype": "text/x-python",
   "name": "python",
   "nbconvert_exporter": "python",
   "pygments_lexer": "ipython3",
   "version": "3.13.1"
  }
 },
 "nbformat": 4,
 "nbformat_minor": 2
}
